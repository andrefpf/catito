{
 "cells": [
  {
   "cell_type": "markdown",
   "metadata": {},
   "source": [
    "# Trabalho Prático - Gato vs Não-Gato\n",
    "\n",
    "O relatório deste trabalho será feito diretamente neste notebook pela conveniência de poder explicar todo o processo "
   ]
  },
  {
   "cell_type": "code",
   "execution_count": 2,
   "metadata": {},
   "outputs": [
    {
     "name": "stdout",
     "output_type": "stream",
     "text": [
      "Requirement already satisfied: scikit-learn in c:\\users\\user\\appdata\\local\\programs\\python\\python311\\lib\\site-packages (1.3.2)\n",
      "Requirement already satisfied: numpy<2.0,>=1.17.3 in c:\\users\\user\\appdata\\local\\programs\\python\\python311\\lib\\site-packages (from scikit-learn) (1.26.1)\n",
      "Requirement already satisfied: scipy>=1.5.0 in c:\\users\\user\\appdata\\local\\programs\\python\\python311\\lib\\site-packages (from scikit-learn) (1.10.1)\n",
      "Requirement already satisfied: joblib>=1.1.1 in c:\\users\\user\\appdata\\local\\programs\\python\\python311\\lib\\site-packages (from scikit-learn) (1.3.2)\n",
      "Requirement already satisfied: threadpoolctl>=2.0.0 in c:\\users\\user\\appdata\\local\\programs\\python\\python311\\lib\\site-packages (from scikit-learn) (3.2.0)\n",
      "Note: you may need to restart the kernel to use updated packages.\n"
     ]
    },
    {
     "name": "stderr",
     "output_type": "stream",
     "text": [
      "\n",
      "[notice] A new release of pip available: 22.3.1 -> 23.3.1\n",
      "[notice] To update, run: python.exe -m pip install --upgrade pip\n"
     ]
    },
    {
     "name": "stdout",
     "output_type": "stream",
     "text": [
      "Requirement already satisfied: matplotlib in c:\\users\\user\\appdata\\local\\programs\\python\\python311\\lib\\site-packages (3.7.1)\n",
      "Requirement already satisfied: contourpy>=1.0.1 in c:\\users\\user\\appdata\\local\\programs\\python\\python311\\lib\\site-packages (from matplotlib) (1.0.7)\n",
      "Requirement already satisfied: cycler>=0.10 in c:\\users\\user\\appdata\\local\\programs\\python\\python311\\lib\\site-packages (from matplotlib) (0.11.0)\n",
      "Requirement already satisfied: fonttools>=4.22.0 in c:\\users\\user\\appdata\\local\\programs\\python\\python311\\lib\\site-packages (from matplotlib) (4.39.3)\n",
      "Requirement already satisfied: kiwisolver>=1.0.1 in c:\\users\\user\\appdata\\local\\programs\\python\\python311\\lib\\site-packages (from matplotlib) (1.4.4)\n",
      "Requirement already satisfied: numpy>=1.20 in c:\\users\\user\\appdata\\local\\programs\\python\\python311\\lib\\site-packages (from matplotlib) (1.26.1)\n",
      "Requirement already satisfied: packaging>=20.0 in c:\\users\\user\\appdata\\local\\programs\\python\\python311\\lib\\site-packages (from matplotlib) (23.0)\n",
      "Requirement already satisfied: pillow>=6.2.0 in c:\\users\\user\\appdata\\local\\programs\\python\\python311\\lib\\site-packages (from matplotlib) (9.4.0)\n",
      "Requirement already satisfied: pyparsing>=2.3.1 in c:\\users\\user\\appdata\\local\\programs\\python\\python311\\lib\\site-packages (from matplotlib) (3.0.9)\n",
      "Requirement already satisfied: python-dateutil>=2.7 in c:\\users\\user\\appdata\\local\\programs\\python\\python311\\lib\\site-packages (from matplotlib) (2.8.2)\n",
      "Requirement already satisfied: six>=1.5 in c:\\users\\user\\appdata\\local\\programs\\python\\python311\\lib\\site-packages (from python-dateutil>=2.7->matplotlib) (1.16.0)\n",
      "Note: you may need to restart the kernel to use updated packages.\n"
     ]
    },
    {
     "name": "stderr",
     "output_type": "stream",
     "text": [
      "\n",
      "[notice] A new release of pip available: 22.3.1 -> 23.3.1\n",
      "[notice] To update, run: python.exe -m pip install --upgrade pip\n"
     ]
    },
    {
     "name": "stdout",
     "output_type": "stream",
     "text": [
      "Requirement already satisfied: h5py in c:\\users\\user\\appdata\\local\\programs\\python\\python311\\lib\\site-packages (3.8.0)\n",
      "Requirement already satisfied: numpy>=1.14.5 in c:\\users\\user\\appdata\\local\\programs\\python\\python311\\lib\\site-packages (from h5py) (1.26.1)\n",
      "Note: you may need to restart the kernel to use updated packages.\n"
     ]
    },
    {
     "name": "stderr",
     "output_type": "stream",
     "text": [
      "\n",
      "[notice] A new release of pip available: 22.3.1 -> 23.3.1\n",
      "[notice] To update, run: python.exe -m pip install --upgrade pip\n"
     ]
    },
    {
     "name": "stdout",
     "output_type": "stream",
     "text": [
      "Requirement already satisfied: tensorflow in c:\\users\\user\\appdata\\local\\programs\\python\\python311\\lib\\site-packages (2.15.0)\n",
      "Requirement already satisfied: tensorflow-intel==2.15.0 in c:\\users\\user\\appdata\\local\\programs\\python\\python311\\lib\\site-packages (from tensorflow) (2.15.0)\n",
      "Requirement already satisfied: absl-py>=1.0.0 in c:\\users\\user\\appdata\\local\\programs\\python\\python311\\lib\\site-packages (from tensorflow-intel==2.15.0->tensorflow) (2.0.0)\n",
      "Requirement already satisfied: astunparse>=1.6.0 in c:\\users\\user\\appdata\\local\\programs\\python\\python311\\lib\\site-packages (from tensorflow-intel==2.15.0->tensorflow) (1.6.3)\n",
      "Requirement already satisfied: flatbuffers>=23.5.26 in c:\\users\\user\\appdata\\local\\programs\\python\\python311\\lib\\site-packages (from tensorflow-intel==2.15.0->tensorflow) (23.5.26)\n",
      "Requirement already satisfied: gast!=0.5.0,!=0.5.1,!=0.5.2,>=0.2.1 in c:\\users\\user\\appdata\\local\\programs\\python\\python311\\lib\\site-packages (from tensorflow-intel==2.15.0->tensorflow) (0.5.4)\n",
      "Requirement already satisfied: google-pasta>=0.1.1 in c:\\users\\user\\appdata\\local\\programs\\python\\python311\\lib\\site-packages (from tensorflow-intel==2.15.0->tensorflow) (0.2.0)\n",
      "Requirement already satisfied: h5py>=2.9.0 in c:\\users\\user\\appdata\\local\\programs\\python\\python311\\lib\\site-packages (from tensorflow-intel==2.15.0->tensorflow) (3.8.0)\n",
      "Requirement already satisfied: libclang>=13.0.0 in c:\\users\\user\\appdata\\local\\programs\\python\\python311\\lib\\site-packages (from tensorflow-intel==2.15.0->tensorflow) (16.0.6)\n",
      "Requirement already satisfied: ml-dtypes~=0.2.0 in c:\\users\\user\\appdata\\local\\programs\\python\\python311\\lib\\site-packages (from tensorflow-intel==2.15.0->tensorflow) (0.2.0)\n",
      "Requirement already satisfied: numpy<2.0.0,>=1.23.5 in c:\\users\\user\\appdata\\local\\programs\\python\\python311\\lib\\site-packages (from tensorflow-intel==2.15.0->tensorflow) (1.26.1)\n",
      "Requirement already satisfied: opt-einsum>=2.3.2 in c:\\users\\user\\appdata\\local\\programs\\python\\python311\\lib\\site-packages (from tensorflow-intel==2.15.0->tensorflow) (3.3.0)\n",
      "Requirement already satisfied: packaging in c:\\users\\user\\appdata\\local\\programs\\python\\python311\\lib\\site-packages (from tensorflow-intel==2.15.0->tensorflow) (23.0)\n",
      "Requirement already satisfied: protobuf!=4.21.0,!=4.21.1,!=4.21.2,!=4.21.3,!=4.21.4,!=4.21.5,<5.0.0dev,>=3.20.3 in c:\\users\\user\\appdata\\local\\programs\\python\\python311\\lib\\site-packages (from tensorflow-intel==2.15.0->tensorflow) (4.23.4)\n",
      "Requirement already satisfied: setuptools in c:\\users\\user\\appdata\\local\\programs\\python\\python311\\lib\\site-packages (from tensorflow-intel==2.15.0->tensorflow) (65.5.0)\n",
      "Requirement already satisfied: six>=1.12.0 in c:\\users\\user\\appdata\\local\\programs\\python\\python311\\lib\\site-packages (from tensorflow-intel==2.15.0->tensorflow) (1.16.0)\n",
      "Requirement already satisfied: termcolor>=1.1.0 in c:\\users\\user\\appdata\\local\\programs\\python\\python311\\lib\\site-packages (from tensorflow-intel==2.15.0->tensorflow) (2.3.0)\n",
      "Requirement already satisfied: typing-extensions>=3.6.6 in c:\\users\\user\\appdata\\local\\programs\\python\\python311\\lib\\site-packages (from tensorflow-intel==2.15.0->tensorflow) (4.4.0)\n",
      "Requirement already satisfied: wrapt<1.15,>=1.11.0 in c:\\users\\user\\appdata\\local\\programs\\python\\python311\\lib\\site-packages (from tensorflow-intel==2.15.0->tensorflow) (1.14.1)\n",
      "Requirement already satisfied: tensorflow-io-gcs-filesystem>=0.23.1 in c:\\users\\user\\appdata\\local\\programs\\python\\python311\\lib\\site-packages (from tensorflow-intel==2.15.0->tensorflow) (0.31.0)\n",
      "Requirement already satisfied: grpcio<2.0,>=1.24.3 in c:\\users\\user\\appdata\\local\\programs\\python\\python311\\lib\\site-packages (from tensorflow-intel==2.15.0->tensorflow) (1.59.3)\n",
      "Requirement already satisfied: tensorboard<2.16,>=2.15 in c:\\users\\user\\appdata\\local\\programs\\python\\python311\\lib\\site-packages (from tensorflow-intel==2.15.0->tensorflow) (2.15.1)\n",
      "Requirement already satisfied: tensorflow-estimator<2.16,>=2.15.0 in c:\\users\\user\\appdata\\local\\programs\\python\\python311\\lib\\site-packages (from tensorflow-intel==2.15.0->tensorflow) (2.15.0)\n",
      "Requirement already satisfied: keras<2.16,>=2.15.0 in c:\\users\\user\\appdata\\local\\programs\\python\\python311\\lib\\site-packages (from tensorflow-intel==2.15.0->tensorflow) (2.15.0)\n",
      "Requirement already satisfied: wheel<1.0,>=0.23.0 in c:\\users\\user\\appdata\\local\\programs\\python\\python311\\lib\\site-packages (from astunparse>=1.6.0->tensorflow-intel==2.15.0->tensorflow) (0.41.3)\n",
      "Requirement already satisfied: google-auth<3,>=1.6.3 in c:\\users\\user\\appdata\\local\\programs\\python\\python311\\lib\\site-packages (from tensorboard<2.16,>=2.15->tensorflow-intel==2.15.0->tensorflow) (2.23.4)\n",
      "Requirement already satisfied: google-auth-oauthlib<2,>=0.5 in c:\\users\\user\\appdata\\local\\programs\\python\\python311\\lib\\site-packages (from tensorboard<2.16,>=2.15->tensorflow-intel==2.15.0->tensorflow) (1.1.0)\n",
      "Requirement already satisfied: markdown>=2.6.8 in c:\\users\\user\\appdata\\local\\programs\\python\\python311\\lib\\site-packages (from tensorboard<2.16,>=2.15->tensorflow-intel==2.15.0->tensorflow) (3.5.1)\n",
      "Requirement already satisfied: requests<3,>=2.21.0 in c:\\users\\user\\appdata\\local\\programs\\python\\python311\\lib\\site-packages (from tensorboard<2.16,>=2.15->tensorflow-intel==2.15.0->tensorflow) (2.31.0)\n",
      "Requirement already satisfied: tensorboard-data-server<0.8.0,>=0.7.0 in c:\\users\\user\\appdata\\local\\programs\\python\\python311\\lib\\site-packages (from tensorboard<2.16,>=2.15->tensorflow-intel==2.15.0->tensorflow) (0.7.2)\n",
      "Requirement already satisfied: werkzeug>=1.0.1 in c:\\users\\user\\appdata\\local\\programs\\python\\python311\\lib\\site-packages (from tensorboard<2.16,>=2.15->tensorflow-intel==2.15.0->tensorflow) (3.0.1)\n",
      "Requirement already satisfied: cachetools<6.0,>=2.0.0 in c:\\users\\user\\appdata\\local\\programs\\python\\python311\\lib\\site-packages (from google-auth<3,>=1.6.3->tensorboard<2.16,>=2.15->tensorflow-intel==2.15.0->tensorflow) (5.3.2)\n",
      "Requirement already satisfied: pyasn1-modules>=0.2.1 in c:\\users\\user\\appdata\\local\\programs\\python\\python311\\lib\\site-packages (from google-auth<3,>=1.6.3->tensorboard<2.16,>=2.15->tensorflow-intel==2.15.0->tensorflow) (0.3.0)\n",
      "Requirement already satisfied: rsa<5,>=3.1.4 in c:\\users\\user\\appdata\\local\\programs\\python\\python311\\lib\\site-packages (from google-auth<3,>=1.6.3->tensorboard<2.16,>=2.15->tensorflow-intel==2.15.0->tensorflow) (4.9)\n",
      "Requirement already satisfied: requests-oauthlib>=0.7.0 in c:\\users\\user\\appdata\\local\\programs\\python\\python311\\lib\\site-packages (from google-auth-oauthlib<2,>=0.5->tensorboard<2.16,>=2.15->tensorflow-intel==2.15.0->tensorflow) (1.3.1)\n",
      "Requirement already satisfied: charset-normalizer<4,>=2 in c:\\users\\user\\appdata\\local\\programs\\python\\python311\\lib\\site-packages (from requests<3,>=2.21.0->tensorboard<2.16,>=2.15->tensorflow-intel==2.15.0->tensorflow) (3.1.0)\n",
      "Requirement already satisfied: idna<4,>=2.5 in c:\\users\\user\\appdata\\local\\programs\\python\\python311\\lib\\site-packages (from requests<3,>=2.21.0->tensorboard<2.16,>=2.15->tensorflow-intel==2.15.0->tensorflow) (3.4)\n",
      "Requirement already satisfied: urllib3<3,>=1.21.1 in c:\\users\\user\\appdata\\local\\programs\\python\\python311\\lib\\site-packages (from requests<3,>=2.21.0->tensorboard<2.16,>=2.15->tensorflow-intel==2.15.0->tensorflow) (1.26.16)\n",
      "Requirement already satisfied: certifi>=2017.4.17 in c:\\users\\user\\appdata\\local\\programs\\python\\python311\\lib\\site-packages (from requests<3,>=2.21.0->tensorboard<2.16,>=2.15->tensorflow-intel==2.15.0->tensorflow) (2023.5.7)\n",
      "Requirement already satisfied: MarkupSafe>=2.1.1 in c:\\users\\user\\appdata\\local\\programs\\python\\python311\\lib\\site-packages (from werkzeug>=1.0.1->tensorboard<2.16,>=2.15->tensorflow-intel==2.15.0->tensorflow) (2.1.2)\n",
      "Requirement already satisfied: pyasn1<0.6.0,>=0.4.6 in c:\\users\\user\\appdata\\local\\programs\\python\\python311\\lib\\site-packages (from pyasn1-modules>=0.2.1->google-auth<3,>=1.6.3->tensorboard<2.16,>=2.15->tensorflow-intel==2.15.0->tensorflow) (0.5.0)\n",
      "Requirement already satisfied: oauthlib>=3.0.0 in c:\\users\\user\\appdata\\local\\programs\\python\\python311\\lib\\site-packages (from requests-oauthlib>=0.7.0->google-auth-oauthlib<2,>=0.5->tensorboard<2.16,>=2.15->tensorflow-intel==2.15.0->tensorflow) (3.2.2)\n",
      "Note: you may need to restart the kernel to use updated packages.\n"
     ]
    },
    {
     "name": "stderr",
     "output_type": "stream",
     "text": [
      "\n",
      "[notice] A new release of pip available: 22.3.1 -> 23.3.1\n",
      "[notice] To update, run: python.exe -m pip install --upgrade pip\n"
     ]
    }
   ],
   "source": [
    "%pip install h5py\n",
    "%pip install scikit-learn\n",
    "%pip install matplotlib\n",
    "%pip install tensorflow"
   ]
  },
  {
   "cell_type": "code",
   "execution_count": 74,
   "metadata": {},
   "outputs": [],
   "source": [
    "import numpy as np\n",
    "import h5py\n",
    "import matplotlib.pyplot as plt\n",
    "import sklearn"
   ]
  },
  {
   "cell_type": "code",
   "execution_count": 110,
   "metadata": {},
   "outputs": [
    {
     "name": "stderr",
     "output_type": "stream",
     "text": [
      "C:\\Users\\User\\AppData\\Local\\Temp\\ipykernel_32132\\1964638034.py:2: DeprecationWarning: `product` is deprecated as of NumPy 1.25.0, and will be removed in NumPy 2.0. Please use `prod` instead.\n",
      "  x_train = np.array(train[\"train_set_x\"]).reshape(-1, 64*64*3)\n",
      "C:\\Users\\User\\AppData\\Local\\Temp\\ipykernel_32132\\1964638034.py:3: DeprecationWarning: `product` is deprecated as of NumPy 1.25.0, and will be removed in NumPy 2.0. Please use `prod` instead.\n",
      "  y_train = np.array(train[\"train_set_y\"]).flatten()\n",
      "C:\\Users\\User\\AppData\\Local\\Temp\\ipykernel_32132\\1964638034.py:4: DeprecationWarning: `product` is deprecated as of NumPy 1.25.0, and will be removed in NumPy 2.0. Please use `prod` instead.\n",
      "  conv_x_train = np.array(train[\"train_set_x\"])\n",
      "C:\\Users\\User\\AppData\\Local\\Temp\\ipykernel_32132\\1964638034.py:5: DeprecationWarning: `product` is deprecated as of NumPy 1.25.0, and will be removed in NumPy 2.0. Please use `prod` instead.\n",
      "  conv_y_train = np.array(train[\"train_set_y\"])\n",
      "C:\\Users\\User\\AppData\\Local\\Temp\\ipykernel_32132\\1964638034.py:8: DeprecationWarning: `product` is deprecated as of NumPy 1.25.0, and will be removed in NumPy 2.0. Please use `prod` instead.\n",
      "  x_test = np.array(test[\"test_set_x\"]).reshape(-1, 64*64*3)\n",
      "C:\\Users\\User\\AppData\\Local\\Temp\\ipykernel_32132\\1964638034.py:9: DeprecationWarning: `product` is deprecated as of NumPy 1.25.0, and will be removed in NumPy 2.0. Please use `prod` instead.\n",
      "  y_test = np.array(test[\"test_set_y\"]).flatten()\n",
      "C:\\Users\\User\\AppData\\Local\\Temp\\ipykernel_32132\\1964638034.py:10: DeprecationWarning: `product` is deprecated as of NumPy 1.25.0, and will be removed in NumPy 2.0. Please use `prod` instead.\n",
      "  conv_x_test = np.array(test[\"test_set_x\"])\n"
     ]
    }
   ],
   "source": [
    "train: h5py.File = h5py.File(\"data/train_catvnoncat.h5\", \"r\")\n",
    "x_train = np.array(train[\"train_set_x\"]).reshape(-1, 64*64*3)\n",
    "y_train = np.array(train[\"train_set_y\"]).flatten()\n",
    "conv_x_train = np.array(train[\"train_set_x\"])\n",
    "conv_y_train = np.array(train[\"train_set_y\"])\n",
    "\n",
    "test: h5py.File = h5py.File(\"data/test_catvnoncat.h5\", \"r\")\n",
    "x_test = np.array(test[\"test_set_x\"]).reshape(-1, 64*64*3)\n",
    "y_test = np.array(test[\"test_set_y\"]).flatten()\n",
    "conv_x_test = np.array(test[\"test_set_x\"])"
   ]
  },
  {
   "cell_type": "code",
   "execution_count": 63,
   "metadata": {},
   "outputs": [
    {
     "name": "stdout",
     "output_type": "stream",
     "text": [
      "36 / 50\n",
      "72.0 %\n"
     ]
    }
   ],
   "source": [
    "from sklearn.linear_model import LogisticRegression\n",
    "\n",
    "linear_model = LogisticRegression(max_iter=300)\n",
    "linear_model.fit(x_train, y_train)\n",
    "linear_predictions = linear_model.predict(x_test)\n",
    "\n",
    "linear_correct_predictions = sum(linear_predictions == y_test)\n",
    "linear_accuracy = 100 * linear_correct_predictions / len(linear_predictions)\n",
    "linear_false_positive = sum(linear_predictions > y_test)\n",
    "linear_false_negative = sum(linear_predictions < y_test)\n",
    "\n",
    "print(linear_correct_predictions, \"/\", len(linear_predictions))\n",
    "print(linear_accuracy, \"%\")"
   ]
  },
  {
   "cell_type": "code",
   "execution_count": 65,
   "metadata": {},
   "outputs": [
    {
     "name": "stdout",
     "output_type": "stream",
     "text": [
      "36 / 50\n",
      "72.0 %\n"
     ]
    }
   ],
   "source": [
    "from sklearn.neural_network import MLPClassifier\n",
    "\n",
    "mlp_model = MLPClassifier(solver='lbfgs', activation=\"relu\", alpha=0.01, max_iter=200, hidden_layer_sizes=(800), random_state=1)\n",
    "mlp_model.fit(x_train, y_train)\n",
    "mlp_predictions = mlp_model.predict(x_test)\n",
    "\n",
    "mlp_correct_predictions = sum(mlp_predictions == y_test)\n",
    "mlp_accuracy = 100 * mlp_correct_predictions / len(mlp_predictions)\n",
    "mlp_false_positive = sum(mlp_predictions > y_test)\n",
    "mlp_false_negative = sum(mlp_predictions < y_test)\n",
    "\n",
    "print(mlp_correct_predictions, \"/\", len(mlp_predictions))\n",
    "print(mlp_accuracy, \"%\")"
   ]
  },
  {
   "cell_type": "code",
   "execution_count": 66,
   "metadata": {},
   "outputs": [
    {
     "name": "stdout",
     "output_type": "stream",
     "text": [
      "31 / 50\n",
      "62.0 %\n"
     ]
    }
   ],
   "source": [
    "\n",
    "np.random.seed(30)\n",
    "random_predictions = np.random.randint(0, 2, y_test.shape)\n",
    "random_correct_predictions = sum(random_predictions == y_test)\n",
    "\n",
    "print(random_correct_predictions, \"/\", len(random_predictions))\n",
    "random_accuracy = 100 * random_correct_predictions / len(random_predictions)\n",
    "random_false_positive = sum(random_predictions > y_test)\n",
    "random_false_negative = sum(random_predictions < y_test)\n",
    "\n",
    "print(random_accuracy, \"%\")\n"
   ]
  },
  {
   "cell_type": "code",
   "execution_count": 109,
   "metadata": {},
   "outputs": [
    {
     "name": "stdout",
     "output_type": "stream",
     "text": [
      "Epoch 1/50\n",
      "7/7 [==============================] - 0s 18ms/step - loss: 0.3310 - accuracy: 0.5550 - val_loss: 0.4268 - val_accuracy: 0.3400\n",
      "Epoch 2/50\n",
      "7/7 [==============================] - 0s 6ms/step - loss: 0.2840 - accuracy: 0.6555 - val_loss: 0.3474 - val_accuracy: 0.3400\n",
      "Epoch 3/50\n",
      "7/7 [==============================] - 0s 6ms/step - loss: 0.2623 - accuracy: 0.6986 - val_loss: 0.3192 - val_accuracy: 0.4600\n",
      "Epoch 4/50\n",
      "7/7 [==============================] - 0s 6ms/step - loss: 0.2431 - accuracy: 0.6986 - val_loss: 0.3071 - val_accuracy: 0.5800\n",
      "Epoch 5/50\n",
      "7/7 [==============================] - 0s 5ms/step - loss: 0.2414 - accuracy: 0.7273 - val_loss: 0.2884 - val_accuracy: 0.6200\n",
      "Epoch 6/50\n",
      "7/7 [==============================] - 0s 6ms/step - loss: 0.2339 - accuracy: 0.7129 - val_loss: 0.2549 - val_accuracy: 0.7200\n",
      "Epoch 7/50\n",
      "7/7 [==============================] - 0s 6ms/step - loss: 0.2349 - accuracy: 0.7321 - val_loss: 0.3652 - val_accuracy: 0.3400\n",
      "Epoch 8/50\n",
      "7/7 [==============================] - 0s 6ms/step - loss: 0.2279 - accuracy: 0.6794 - val_loss: 0.2242 - val_accuracy: 0.7400\n",
      "Epoch 9/50\n",
      "7/7 [==============================] - 0s 6ms/step - loss: 0.2249 - accuracy: 0.7225 - val_loss: 0.2182 - val_accuracy: 0.7600\n",
      "Epoch 10/50\n",
      "7/7 [==============================] - 0s 6ms/step - loss: 0.2214 - accuracy: 0.7560 - val_loss: 0.2624 - val_accuracy: 0.7400\n",
      "Epoch 11/50\n",
      "7/7 [==============================] - 0s 6ms/step - loss: 0.2093 - accuracy: 0.7416 - val_loss: 0.4562 - val_accuracy: 0.3400\n",
      "Epoch 12/50\n",
      "7/7 [==============================] - 0s 6ms/step - loss: 0.2219 - accuracy: 0.7273 - val_loss: 0.2398 - val_accuracy: 0.7200\n",
      "Epoch 13/50\n",
      "7/7 [==============================] - 0s 6ms/step - loss: 0.2209 - accuracy: 0.7129 - val_loss: 0.2697 - val_accuracy: 0.6200\n",
      "Epoch 14/50\n",
      "7/7 [==============================] - 0s 5ms/step - loss: 0.2107 - accuracy: 0.7608 - val_loss: 0.2902 - val_accuracy: 0.6000\n",
      "Epoch 15/50\n",
      "7/7 [==============================] - 0s 5ms/step - loss: 0.2134 - accuracy: 0.7464 - val_loss: 0.1642 - val_accuracy: 0.8600\n",
      "Epoch 16/50\n",
      "7/7 [==============================] - 0s 5ms/step - loss: 0.1850 - accuracy: 0.7847 - val_loss: 0.1685 - val_accuracy: 0.8200\n",
      "Epoch 17/50\n",
      "7/7 [==============================] - 0s 6ms/step - loss: 0.1863 - accuracy: 0.7943 - val_loss: 0.1806 - val_accuracy: 0.8400\n",
      "Epoch 18/50\n",
      "7/7 [==============================] - 0s 5ms/step - loss: 0.1764 - accuracy: 0.7895 - val_loss: 0.1669 - val_accuracy: 0.8400\n",
      "Epoch 19/50\n",
      "7/7 [==============================] - 0s 5ms/step - loss: 0.1767 - accuracy: 0.8230 - val_loss: 0.2123 - val_accuracy: 0.7200\n",
      "Epoch 20/50\n",
      "7/7 [==============================] - 0s 6ms/step - loss: 0.1775 - accuracy: 0.7990 - val_loss: 0.1787 - val_accuracy: 0.8200\n",
      "Epoch 21/50\n",
      "7/7 [==============================] - 0s 6ms/step - loss: 0.1605 - accuracy: 0.8373 - val_loss: 0.1637 - val_accuracy: 0.8800\n",
      "Epoch 22/50\n",
      "7/7 [==============================] - 0s 6ms/step - loss: 0.1546 - accuracy: 0.8278 - val_loss: 0.1894 - val_accuracy: 0.7800\n",
      "Epoch 23/50\n",
      "7/7 [==============================] - 0s 6ms/step - loss: 0.1875 - accuracy: 0.7895 - val_loss: 0.2969 - val_accuracy: 0.5000\n",
      "Epoch 24/50\n",
      "7/7 [==============================] - 0s 6ms/step - loss: 0.1676 - accuracy: 0.7703 - val_loss: 0.1439 - val_accuracy: 0.8800\n",
      "Epoch 25/50\n",
      "7/7 [==============================] - 0s 5ms/step - loss: 0.1650 - accuracy: 0.8086 - val_loss: 0.1952 - val_accuracy: 0.7400\n",
      "Epoch 26/50\n",
      "7/7 [==============================] - 0s 5ms/step - loss: 0.1437 - accuracy: 0.8421 - val_loss: 0.1668 - val_accuracy: 0.8400\n",
      "Epoch 27/50\n",
      "7/7 [==============================] - 0s 6ms/step - loss: 0.1459 - accuracy: 0.8325 - val_loss: 0.1414 - val_accuracy: 0.8600\n",
      "Epoch 28/50\n",
      "7/7 [==============================] - 0s 6ms/step - loss: 0.1405 - accuracy: 0.8517 - val_loss: 0.1746 - val_accuracy: 0.7800\n",
      "Epoch 29/50\n",
      "7/7 [==============================] - 0s 5ms/step - loss: 0.1399 - accuracy: 0.8565 - val_loss: 0.1955 - val_accuracy: 0.6600\n",
      "Epoch 30/50\n",
      "7/7 [==============================] - 0s 6ms/step - loss: 0.1399 - accuracy: 0.8469 - val_loss: 0.1540 - val_accuracy: 0.8600\n",
      "Epoch 31/50\n",
      "7/7 [==============================] - 0s 6ms/step - loss: 0.1382 - accuracy: 0.8469 - val_loss: 0.1376 - val_accuracy: 0.8800\n",
      "Epoch 32/50\n",
      "7/7 [==============================] - 0s 5ms/step - loss: 0.1376 - accuracy: 0.8325 - val_loss: 0.1497 - val_accuracy: 0.8600\n",
      "Epoch 33/50\n",
      "7/7 [==============================] - 0s 6ms/step - loss: 0.1309 - accuracy: 0.8565 - val_loss: 0.1354 - val_accuracy: 0.8800\n",
      "Epoch 34/50\n",
      "7/7 [==============================] - 0s 6ms/step - loss: 0.1225 - accuracy: 0.8852 - val_loss: 0.1627 - val_accuracy: 0.8400\n",
      "Epoch 35/50\n",
      "7/7 [==============================] - 0s 6ms/step - loss: 0.1118 - accuracy: 0.9091 - val_loss: 0.1900 - val_accuracy: 0.7600\n",
      "Epoch 36/50\n",
      "7/7 [==============================] - 0s 6ms/step - loss: 0.1126 - accuracy: 0.8756 - val_loss: 0.1191 - val_accuracy: 0.9200\n",
      "Epoch 37/50\n",
      "7/7 [==============================] - 0s 6ms/step - loss: 0.1181 - accuracy: 0.8995 - val_loss: 0.2656 - val_accuracy: 0.6200\n",
      "Epoch 38/50\n",
      "7/7 [==============================] - 0s 6ms/step - loss: 0.1106 - accuracy: 0.8852 - val_loss: 0.1209 - val_accuracy: 0.9200\n",
      "Epoch 39/50\n",
      "7/7 [==============================] - 0s 6ms/step - loss: 0.1059 - accuracy: 0.8995 - val_loss: 0.1634 - val_accuracy: 0.8000\n",
      "Epoch 40/50\n",
      "7/7 [==============================] - 0s 5ms/step - loss: 0.1106 - accuracy: 0.9091 - val_loss: 0.1757 - val_accuracy: 0.8400\n",
      "Epoch 41/50\n",
      "7/7 [==============================] - 0s 6ms/step - loss: 0.1027 - accuracy: 0.9187 - val_loss: 0.1581 - val_accuracy: 0.8800\n",
      "Epoch 42/50\n",
      "7/7 [==============================] - 0s 6ms/step - loss: 0.0974 - accuracy: 0.9282 - val_loss: 0.1381 - val_accuracy: 0.9200\n",
      "Epoch 43/50\n",
      "7/7 [==============================] - 0s 6ms/step - loss: 0.0910 - accuracy: 0.9187 - val_loss: 0.1171 - val_accuracy: 0.9000\n",
      "Epoch 44/50\n",
      "7/7 [==============================] - 0s 5ms/step - loss: 0.1068 - accuracy: 0.8852 - val_loss: 0.1294 - val_accuracy: 0.8800\n",
      "Epoch 45/50\n",
      "7/7 [==============================] - 0s 6ms/step - loss: 0.1053 - accuracy: 0.8995 - val_loss: 0.1422 - val_accuracy: 0.8800\n",
      "Epoch 46/50\n",
      "7/7 [==============================] - 0s 6ms/step - loss: 0.0830 - accuracy: 0.9330 - val_loss: 0.1829 - val_accuracy: 0.8400\n",
      "Epoch 47/50\n",
      "7/7 [==============================] - 0s 6ms/step - loss: 0.0956 - accuracy: 0.9139 - val_loss: 0.1165 - val_accuracy: 0.8800\n",
      "Epoch 48/50\n",
      "7/7 [==============================] - 0s 6ms/step - loss: 0.0890 - accuracy: 0.9091 - val_loss: 0.1789 - val_accuracy: 0.7800\n",
      "Epoch 49/50\n",
      "7/7 [==============================] - 0s 5ms/step - loss: 0.0876 - accuracy: 0.9426 - val_loss: 0.1645 - val_accuracy: 0.8400\n",
      "Epoch 50/50\n",
      "7/7 [==============================] - 0s 5ms/step - loss: 0.0718 - accuracy: 0.9522 - val_loss: 0.1234 - val_accuracy: 0.9200\n",
      "2/2 [==============================] - 0s 2ms/step\n"
     ]
    },
    {
     "data": {
      "text/plain": [
       "<matplotlib.legend.Legend at 0x123417ae310>"
      ]
     },
     "execution_count": 109,
     "metadata": {},
     "output_type": "execute_result"
    },
    {
     "data": {
      "image/png": "[encoded data removed]",
      "text/plain": [
       "<Figure size 640x480 with 1 Axes>"
      ]
     },
     "metadata": {},
     "output_type": "display_data"
    }
   ],
   "source": [
    "import tensorflow as tf\n",
    "\n",
    "\n",
    "model = tf.keras.Sequential([\n",
    "    tf.keras.layers.Conv2D(8, (3,3), activation=\"tanh\", input_shape=(64, 64, 3), kernel_initializer=\"random_uniform\", kernel_regularizer=tf.keras.regularizers.l2(l=0.01)),\n",
    "    tf.keras.layers.MaxPooling2D((2,2)),\n",
    "    tf.keras.layers.Conv2D(5, (5,5), activation=\"tanh\", input_shape=(64, 64, 3), kernel_regularizer=tf.keras.regularizers.l2(l=0.01)),\n",
    "    tf.keras.layers.MaxPooling2D((2,2)),\n",
    "    tf.keras.layers.Dropout(0.2),\n",
    "    tf.keras.layers.Flatten(),\n",
    "    tf.keras.layers.Dense(20, activation='relu', kernel_initializer=\"random_uniform\"),\n",
    "    tf.keras.layers.Dense(1, activation='relu', kernel_initializer=\"random_uniform\")\n",
    "],\n",
    "name=\"TesteConv\"\n",
    ")\n",
    "\n",
    "tf.keras.utils.set_random_seed(123)\n",
    "\n",
    "mse = tf.keras.losses.MeanSquaredError(reduction=tf.keras.losses.Reduction.NONE)\n",
    "opt = tf.keras.optimizers.SGD(learning_rate=0.1)\n",
    "model.compile(\n",
    "    \"adam\",\n",
    "    loss=\"mean_squared_error\",\n",
    "    metrics=['accuracy']\n",
    ")\n",
    "model.build(conv_x_train.shape, )\n",
    "# model.summary()\n",
    "\n",
    "results = model.fit(\n",
    "    conv_x_train,\n",
    "    conv_y_train,\n",
    "    validation_data=(conv_x_test, y_test),\n",
    "    epochs=50,\n",
    ")\n",
    "\n",
    "conv_predictions = np.round(model.predict(conv_x_test).flatten())\n",
    "conv_correct_predictions = sum(conv_predictions == y_test)\n",
    "conv_accuracy = 100 * conv_correct_predictions / len(conv_predictions)\n",
    "conv_false_positive = sum(conv_predictions > y_test)\n",
    "conv_false_negative = sum(conv_predictions < y_test)\n",
    "\n",
    "plt.plot(results.history['accuracy'], label='accuracy')\n",
    "plt.plot(results.history['val_accuracy'], label='val_accuracy')\n",
    "plt.ylim([0, 1.1])\n",
    "plt.xlabel('Epoch')\n",
    "plt.ylabel('Accuracy')\n",
    "plt.legend(loc='lower right')"
   ]
  },
  {
   "cell_type": "code",
   "execution_count": 67,
   "metadata": {},
   "outputs": [
    {
     "data": {
      "text/markdown": [
       "\n",
       "# Resultados\n",
       "\n",
       "## Perceptron Simples\n",
       "\n",
       "|                   | N/M                                       | %\n",
       "| ------            | ---                                       | -\n",
       "| Acertos           | 36 / 50| 72.0 %\n",
       "| Falsos Positivos  | 4 / 17  | 23.53 %\n",
       "| Falsos Negativos  | 10 / 33      | 30.3 %\n",
       "\n",
       "## Rede de Camada Rasa\n",
       "|                   | N/M                                       | %\n",
       "| ------            | ---                                       | -\n",
       "| Acertos           | 36 / 50| 72.0 %\n",
       "| Falsos Positivos  | 8 / 17  | 47.06 %\n",
       "| Falsos Negativos  | 6 / 33      | 18.18 %\n",
       "\n",
       "## Rede Neural Convolucional\n",
       "|                   | N/M                                       | %\n",
       "| ------            | ---                                       | -\n",
       "| Acertos           | 46 / 50| 92.0 %\n",
       "| Falsos Positivos  | 0.04 / 17  | 0.24 %\n",
       "| Falsos Negativos  | 0.04 / 33      | 0.12 %\n"
      ],
      "text/plain": [
       "<IPython.core.display.Markdown object>"
      ]
     },
     "execution_count": 67,
     "metadata": {},
     "output_type": "execute_result"
    }
   ],
   "source": [
    "from IPython.display import Markdown\n",
    "\n",
    "total_tests = len(y_test)\n",
    "total_cats  = sum(y_test == 1)\n",
    "total_non_cats  = total_tests - total_cats\n",
    "\n",
    "Markdown(\n",
    "f'''\n",
    "# Resultados\n",
    "\n",
    "## Perceptron Simples\n",
    "\n",
    "|                   | N/M                                       | %\n",
    "| ------            | ---                                       | -\n",
    "| Acertos           | {linear_correct_predictions} / {total_tests}| {round(100 * linear_correct_predictions/total_tests, 2)} %\n",
    "| Falsos Positivos  | {linear_false_positive} / {total_non_cats}  | {round(100 * linear_false_positive/total_non_cats, 2)} %\n",
    "| Falsos Negativos  | {linear_false_negative} / {total_cats}      | {round(100 * linear_false_negative/total_cats, 2)} %\n",
    "\n",
    "## Rede de Camada Rasa\n",
    "|                   | N/M                                       | %\n",
    "| ------            | ---                                       | -\n",
    "| Acertos           | {mlp_correct_predictions} / {total_tests}| {round(100 * mlp_correct_predictions/total_tests, 2)} %\n",
    "| Falsos Positivos  | {mlp_false_positive} / {total_non_cats}  | {round(100 * mlp_false_positive/total_non_cats, 2)} %\n",
    "| Falsos Negativos  | {mlp_false_negative} / {total_cats}      | {round(100 * mlp_false_negative/total_cats, 2)} %\n",
    "\n",
    "## Rede Neural Convolucional\n",
    "|                   | N/M                                       | %\n",
    "| ------            | ---                                       | -\n",
    "| Acertos           | {conv_correct_predictions} / {total_tests}| {round(100 * conv_correct_predictions/total_tests, 2)} %\n",
    "| Falsos Positivos  | {conv_false_positive} / {total_non_cats}  | {round(100 * conv_false_positive/total_non_cats, 2)} %\n",
    "| Falsos Negativos  | {conv_false_negative} / {total_cats}      | {round(100 * conv_false_negative/total_cats, 2)} %\n",
    "'''\n",
    ")"
   ]
  },
  {
   "cell_type": "code",
   "execution_count": 103,
   "metadata": {},
   "outputs": [
    {
     "data": {
      "application/vnd.jupyter.widget-view+json": {
       "model_id": "a6eae971ac4747f6bad88c2b669173f6",
       "version_major": 2,
       "version_minor": 0
      },
      "text/plain": [
       "interactive(children=(Dropdown(description='index', options=(0, 1, 2, 3, 4, 5, 6, 7, 8, 9, 10, 11, 12, 13, 14,…"
      ]
     },
     "metadata": {},
     "output_type": "display_data"
    },
    {
     "data": {
      "text/plain": [
       "<function __main__.show_image(index)>"
      ]
     },
     "execution_count": 103,
     "metadata": {},
     "output_type": "execute_result"
    }
   ],
   "source": [
    "from ipywidgets import interact\n",
    "\n",
    "indexes = [i for i in range(len(y_test))]\n",
    "\n",
    "def get_params(is_cat, name):\n",
    "    if is_cat:\n",
    "        return dict(\n",
    "            s = f\"{name}: é gato\",\n",
    "            color = \"darkgreen\"\n",
    "        )\n",
    "    else:\n",
    "        return dict(\n",
    "            s = f\"{name}: não é gato\",\n",
    "            color = \"darkred\"\n",
    "        )\n",
    "\n",
    "def show_image(index):\n",
    "    image = conv_x_test[index]\n",
    "\n",
    "    params = get_params(linear_predictions[index], \"Perceptron Simples\")\n",
    "    plt.text(80, 10, **params)\n",
    "\n",
    "    params = get_params(mlp_predictions[index], \"Rede de Camada Rasa\")\n",
    "    plt.text(80, 20, **params)\n",
    "\n",
    "    params = get_params(conv_predictions[index], \"Rede Neural Convolucional\")\n",
    "    plt.text(80, 30, **params)\n",
    "\n",
    "    plt.imshow(image)\n",
    "    plt.show()\n",
    "\n",
    "interact(show_image, index=indexes, fontweight=\"bold\")"
   ]
  }
 ],
 "metadata": {
  "kernelspec": {
   "display_name": "Python 3",
   "language": "python",
   "name": "python3"
  },
  "language_info": {
   "codemirror_mode": {
    "name": "ipython",
    "version": 3
   },
   "file_extension": ".py",
   "mimetype": "text/x-python",
   "name": "python",
   "nbconvert_exporter": "python",
   "pygments_lexer": "ipython3",
   "version": "3.11.2"
  }
 },
 "nbformat": 4,
 "nbformat_minor": 2
}
